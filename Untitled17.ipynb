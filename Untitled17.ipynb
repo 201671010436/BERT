{
  "nbformat": 4,
  "nbformat_minor": 0,
  "metadata": {
    "colab": {
      "provenance": [],
      "authorship_tag": "ABX9TyP7QAeN2Z75NfdjtylvtJHX",
      "include_colab_link": true
    },
    "kernelspec": {
      "name": "python3",
      "display_name": "Python 3"
    },
    "language_info": {
      "name": "python"
    }
  },
  "cells": [
    {
      "cell_type": "markdown",
      "metadata": {
        "id": "view-in-github",
        "colab_type": "text"
      },
      "source": [
        "<a href=\"https://colab.research.google.com/github/CREATION1310/bert/blob/master/Untitled17.ipynb\" target=\"_parent\"><img src=\"https://colab.research.google.com/assets/colab-badge.svg\" alt=\"Open In Colab\"/></a>"
      ]
    },
    {
      "cell_type": "code",
      "execution_count": 8,
      "metadata": {
        "colab": {
          "base_uri": "https://localhost:8080/"
        },
        "id": "Kp74j_p2RETn",
        "outputId": "181ca318-ac43-494e-84a2-c5c728ca8fda"
      },
      "outputs": [
        {
          "output_type": "stream",
          "name": "stdout",
          "text": [
            "Looking in indexes: https://pypi.org/simple, https://us-python.pkg.dev/colab-wheels/public/simple/\n",
            "Requirement already satisfied: gcloud in /usr/local/lib/python3.10/dist-packages (0.18.3)\n",
            "Requirement already satisfied: init in /usr/local/lib/python3.10/dist-packages (0.1.0)\n",
            "Requirement already satisfied: httplib2>=0.9.1 in /usr/local/lib/python3.10/dist-packages (from gcloud) (0.21.0)\n",
            "Requirement already satisfied: googleapis-common-protos in /usr/local/lib/python3.10/dist-packages (from gcloud) (1.59.0)\n",
            "Requirement already satisfied: oauth2client>=2.0.1 in /usr/local/lib/python3.10/dist-packages (from gcloud) (4.1.3)\n",
            "Requirement already satisfied: protobuf!=3.0.0.b2.post1,>=3.0.0b2 in /usr/local/lib/python3.10/dist-packages (from gcloud) (3.20.3)\n",
            "Requirement already satisfied: six in /usr/local/lib/python3.10/dist-packages (from gcloud) (1.16.0)\n",
            "Requirement already satisfied: terminal in /usr/local/lib/python3.10/dist-packages (from init) (0.4.0)\n",
            "Requirement already satisfied: PyYaml in /usr/local/lib/python3.10/dist-packages (from init) (6.0)\n",
            "Requirement already satisfied: pyparsing!=3.0.0,!=3.0.1,!=3.0.2,!=3.0.3,<4,>=2.4.2 in /usr/local/lib/python3.10/dist-packages (from httplib2>=0.9.1->gcloud) (3.0.9)\n",
            "Requirement already satisfied: pyasn1>=0.1.7 in /usr/local/lib/python3.10/dist-packages (from oauth2client>=2.0.1->gcloud) (0.5.0)\n",
            "Requirement already satisfied: pyasn1-modules>=0.0.5 in /usr/local/lib/python3.10/dist-packages (from oauth2client>=2.0.1->gcloud) (0.3.0)\n",
            "Requirement already satisfied: rsa>=3.1.4 in /usr/local/lib/python3.10/dist-packages (from oauth2client>=2.0.1->gcloud) (4.9)\n",
            "Looking in indexes: https://pypi.org/simple, https://us-python.pkg.dev/colab-wheels/public/simple/\n",
            "Requirement already satisfied: gcloud in /usr/local/lib/python3.10/dist-packages (0.18.3)\n",
            "Requirement already satisfied: auth in /usr/local/lib/python3.10/dist-packages (0.5.3)\n",
            "Requirement already satisfied: httplib2>=0.9.1 in /usr/local/lib/python3.10/dist-packages (from gcloud) (0.21.0)\n",
            "Requirement already satisfied: googleapis-common-protos in /usr/local/lib/python3.10/dist-packages (from gcloud) (1.59.0)\n",
            "Requirement already satisfied: oauth2client>=2.0.1 in /usr/local/lib/python3.10/dist-packages (from gcloud) (4.1.3)\n",
            "Requirement already satisfied: protobuf!=3.0.0.b2.post1,>=3.0.0b2 in /usr/local/lib/python3.10/dist-packages (from gcloud) (3.20.3)\n",
            "Requirement already satisfied: six in /usr/local/lib/python3.10/dist-packages (from gcloud) (1.16.0)\n",
            "Requirement already satisfied: blinker in /usr/local/lib/python3.10/dist-packages (from auth) (1.6.2)\n",
            "Requirement already satisfied: eventlet in /usr/local/lib/python3.10/dist-packages (from auth) (0.33.3)\n",
            "Requirement already satisfied: falcon in /usr/local/lib/python3.10/dist-packages (from auth) (3.1.1)\n",
            "Requirement already satisfied: gunicorn in /usr/local/lib/python3.10/dist-packages (from auth) (20.1.0)\n",
            "Requirement already satisfied: mongoengine in /usr/local/lib/python3.10/dist-packages (from auth) (0.27.0)\n",
            "Requirement already satisfied: requests in /usr/local/lib/python3.10/dist-packages (from auth) (2.27.1)\n",
            "Requirement already satisfied: werkzeug in /usr/local/lib/python3.10/dist-packages (from auth) (2.3.0)\n",
            "Requirement already satisfied: pyparsing!=3.0.0,!=3.0.1,!=3.0.2,!=3.0.3,<4,>=2.4.2 in /usr/local/lib/python3.10/dist-packages (from httplib2>=0.9.1->gcloud) (3.0.9)\n",
            "Requirement already satisfied: pyasn1>=0.1.7 in /usr/local/lib/python3.10/dist-packages (from oauth2client>=2.0.1->gcloud) (0.5.0)\n",
            "Requirement already satisfied: pyasn1-modules>=0.0.5 in /usr/local/lib/python3.10/dist-packages (from oauth2client>=2.0.1->gcloud) (0.3.0)\n",
            "Requirement already satisfied: rsa>=3.1.4 in /usr/local/lib/python3.10/dist-packages (from oauth2client>=2.0.1->gcloud) (4.9)\n",
            "Requirement already satisfied: dnspython>=1.15.0 in /usr/local/lib/python3.10/dist-packages (from eventlet->auth) (2.3.0)\n",
            "Requirement already satisfied: greenlet>=0.3 in /usr/local/lib/python3.10/dist-packages (from eventlet->auth) (2.0.2)\n",
            "Requirement already satisfied: setuptools>=3.0 in /usr/local/lib/python3.10/dist-packages (from gunicorn->auth) (67.7.2)\n",
            "Requirement already satisfied: pymongo<5.0,>=3.4 in /usr/local/lib/python3.10/dist-packages (from mongoengine->auth) (4.3.3)\n",
            "Requirement already satisfied: urllib3<1.27,>=1.21.1 in /usr/local/lib/python3.10/dist-packages (from requests->auth) (1.26.15)\n",
            "Requirement already satisfied: certifi>=2017.4.17 in /usr/local/lib/python3.10/dist-packages (from requests->auth) (2022.12.7)\n",
            "Requirement already satisfied: charset-normalizer~=2.0.0 in /usr/local/lib/python3.10/dist-packages (from requests->auth) (2.0.12)\n",
            "Requirement already satisfied: idna<4,>=2.5 in /usr/local/lib/python3.10/dist-packages (from requests->auth) (3.4)\n",
            "Requirement already satisfied: MarkupSafe>=2.1.1 in /usr/local/lib/python3.10/dist-packages (from werkzeug->auth) (2.1.2)\n"
          ]
        }
      ],
      "source": [
        "!pip install gcloud init\n",
        "!pip install gcloud auth\n"
      ]
    },
    {
      "cell_type": "code",
      "source": [
        "from google.cloud import storage\n",
        "\n",
        "\n",
        "def activate_key(p5pj9onmus5sdlf76j37m2fu7ot6233t, dataproc_388913):\n",
        "    \"\"\"\n",
        "    Activate the HMAC key with the given access ID.\n",
        "    \"\"\"\n",
        "    # project_id = \"Your Google Cloud project ID\"\n",
        "    # access_id = \"ID of an inactive HMAC key\"\n",
        "\n",
        "    storage_client = storage.Client(project=project_id)\n",
        "\n",
        "    hmac_key = storage_client.get_hmac_key_metadata(\n",
        "        access_id, project_id=project_id\n",
        "    )\n",
        "    hmac_key.state = \"ACTIVE\"\n",
        "    hmac_key.update()\n",
        "\n",
        "    print(\"The HMAC key metadata is:\")\n",
        "    print(f\"Service Account Email: {hmac_key.service_account_email}\")\n",
        "    print(f\"Key ID: {hmac_key.id}\")\n",
        "    print(f\"Access ID: {hmac_key.access_id}\")\n",
        "    print(f\"Project ID: {hmac_key.project}\")\n",
        "    print(f\"State: {hmac_key.state}\")\n",
        "    print(f\"Created At: {hmac_key.time_created}\")\n",
        "    print(f\"Updated At: {hmac_key.updated}\")\n",
        "    print(f\"Etag: {hmac_key.etag}\")\n",
        "    return hmac_key\n"
      ],
      "metadata": {
        "id": "JteyBbPuSHF0"
      },
      "execution_count": 25,
      "outputs": []
    }
  ]
}